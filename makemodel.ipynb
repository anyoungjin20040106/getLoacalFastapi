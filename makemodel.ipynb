{
 "cells": [
  {
   "cell_type": "code",
   "execution_count": 7,
   "metadata": {},
   "outputs": [],
   "source": [
    "import joblib\n",
    "import pandas as pd\n",
    "from sklearn.neighbors import KNeighborsClassifier\n"
   ]
  },
  {
   "cell_type": "markdown",
   "metadata": {},
   "source": [
    "# 데이터를 불러온다"
   ]
  },
  {
   "cell_type": "code",
   "execution_count": 10,
   "metadata": {},
   "outputs": [
    {
     "data": {
      "text/html": [
       "<div>\n",
       "<style scoped>\n",
       "    .dataframe tbody tr th:only-of-type {\n",
       "        vertical-align: middle;\n",
       "    }\n",
       "\n",
       "    .dataframe tbody tr th {\n",
       "        vertical-align: top;\n",
       "    }\n",
       "\n",
       "    .dataframe thead th {\n",
       "        text-align: right;\n",
       "    }\n",
       "</style>\n",
       "<table border=\"1\" class=\"dataframe\">\n",
       "  <thead>\n",
       "    <tr style=\"text-align: right;\">\n",
       "      <th></th>\n",
       "      <th>지역명</th>\n",
       "      <th>위도</th>\n",
       "      <th>경도</th>\n",
       "    </tr>\n",
       "  </thead>\n",
       "  <tbody>\n",
       "    <tr>\n",
       "      <th>0</th>\n",
       "      <td>경기도 가평군</td>\n",
       "      <td>37.829691</td>\n",
       "      <td>127.506433</td>\n",
       "    </tr>\n",
       "    <tr>\n",
       "      <th>1</th>\n",
       "      <td>경기도 가평군</td>\n",
       "      <td>37.683315</td>\n",
       "      <td>127.491015</td>\n",
       "    </tr>\n",
       "    <tr>\n",
       "      <th>2</th>\n",
       "      <td>경기도 가평군</td>\n",
       "      <td>37.739591</td>\n",
       "      <td>127.424230</td>\n",
       "    </tr>\n",
       "    <tr>\n",
       "      <th>3</th>\n",
       "      <td>경기도 가평군</td>\n",
       "      <td>37.818290</td>\n",
       "      <td>127.352981</td>\n",
       "    </tr>\n",
       "    <tr>\n",
       "      <th>4</th>\n",
       "      <td>대전광역시 유성구</td>\n",
       "      <td>36.349268</td>\n",
       "      <td>127.330255</td>\n",
       "    </tr>\n",
       "    <tr>\n",
       "      <th>...</th>\n",
       "      <td>...</td>\n",
       "      <td>...</td>\n",
       "      <td>...</td>\n",
       "    </tr>\n",
       "    <tr>\n",
       "      <th>18388</th>\n",
       "      <td>경기도 포천시</td>\n",
       "      <td>37.889712</td>\n",
       "      <td>127.201129</td>\n",
       "    </tr>\n",
       "    <tr>\n",
       "      <th>18389</th>\n",
       "      <td>경기도 성남시</td>\n",
       "      <td>37.404132</td>\n",
       "      <td>127.152601</td>\n",
       "    </tr>\n",
       "    <tr>\n",
       "      <th>18390</th>\n",
       "      <td>서울특별시 강남구</td>\n",
       "      <td>37.517968</td>\n",
       "      <td>127.047060</td>\n",
       "    </tr>\n",
       "    <tr>\n",
       "      <th>18391</th>\n",
       "      <td>서울특별시 강남구</td>\n",
       "      <td>37.515911</td>\n",
       "      <td>127.052143</td>\n",
       "    </tr>\n",
       "    <tr>\n",
       "      <th>18392</th>\n",
       "      <td>경기도 안산시</td>\n",
       "      <td>37.293275</td>\n",
       "      <td>126.866780</td>\n",
       "    </tr>\n",
       "  </tbody>\n",
       "</table>\n",
       "<p>18393 rows × 3 columns</p>\n",
       "</div>"
      ],
      "text/plain": [
       "             지역명         위도          경도\n",
       "0        경기도 가평군  37.829691  127.506433\n",
       "1        경기도 가평군  37.683315  127.491015\n",
       "2        경기도 가평군  37.739591  127.424230\n",
       "3        경기도 가평군  37.818290  127.352981\n",
       "4      대전광역시 유성구  36.349268  127.330255\n",
       "...          ...        ...         ...\n",
       "18388    경기도 포천시  37.889712  127.201129\n",
       "18389    경기도 성남시  37.404132  127.152601\n",
       "18390  서울특별시 강남구  37.517968  127.047060\n",
       "18391  서울특별시 강남구  37.515911  127.052143\n",
       "18392    경기도 안산시  37.293275  126.866780\n",
       "\n",
       "[18393 rows x 3 columns]"
      ]
     },
     "execution_count": 10,
     "metadata": {},
     "output_type": "execute_result"
    }
   ],
   "source": [
    "df=pd.read_csv(\"https://raw.githubusercontent.com/janyoungjin/localData/main/data.csv\")\n",
    "df"
   ]
  },
  {
   "cell_type": "markdown",
   "metadata": {},
   "source": [
    "# 해당 데이터를 이용해서 모델을 만든다"
   ]
  },
  {
   "cell_type": "code",
   "execution_count": 11,
   "metadata": {},
   "outputs": [
    {
     "data": {
      "text/plain": [
       "['model.joblib']"
      ]
     },
     "execution_count": 11,
     "metadata": {},
     "output_type": "execute_result"
    }
   ],
   "source": [
    "knn = KNeighborsClassifier()\n",
    "knn.fit(df[['경도','위도']], df['지역명'])\n",
    "joblib.dump(knn,'model.joblib')"
   ]
  }
 ],
 "metadata": {
  "kernelspec": {
   "display_name": "Python 3",
   "language": "python",
   "name": "python3"
  },
  "language_info": {
   "codemirror_mode": {
    "name": "ipython",
    "version": 3
   },
   "file_extension": ".py",
   "mimetype": "text/x-python",
   "name": "python",
   "nbconvert_exporter": "python",
   "pygments_lexer": "ipython3",
   "version": "3.12.3"
  }
 },
 "nbformat": 4,
 "nbformat_minor": 2
}
